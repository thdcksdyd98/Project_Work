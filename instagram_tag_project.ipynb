{
 "cells": [
  {
   "cell_type": "code",
   "execution_count": 1,
   "metadata": {},
   "outputs": [],
   "source": [
    "from selenium import webdriver\n",
    "from selenium.webdriver.common.keys import Keys\n",
    "from selenium.webdriver.common.by import By\n",
    "from selenium.webdriver.support.wait import WebDriverWait\n",
    "from selenium.webdriver.support import expected_conditions as EC\n",
    "import pandas as pd\n",
    "import numpy as np\n",
    "\n",
    "import time\n",
    "import csv\n",
    "import random\n",
    "import re\n",
    "import instaloader\n"
   ]
  },
  {
   "cell_type": "code",
   "execution_count": null,
   "metadata": {},
   "outputs": [],
   "source": [
    "dr = webdriver.Chrome(\"C:/windows/chromedriver.exe\")\n",
    "dr.set_window_size(1000,1000)\n",
    "dr.get('https://www.instagram.com/')\n",
    "time.sleep(random.randint(2,10))"
   ]
  },
  {
   "cell_type": "code",
   "execution_count": 4,
   "metadata": {},
   "outputs": [],
   "source": [
    "username_field = WebDriverWait(dr, 10).until(\n",
    "    EC.presence_of_element_located((By.NAME, \"username\"))\n",
    ")"
   ]
  },
  {
   "cell_type": "code",
   "execution_count": 5,
   "metadata": {},
   "outputs": [],
   "source": [
    "username_field.send_keys(USERNAME)\n",
    "password_field = dr.find_element(By.NAME, \"password\")\n",
    "password_field.send_keys(PASSWORD)\n",
    "password_field.send_keys(Keys.RETURN)\n",
    "time.sleep(random.randint(2,10))"
   ]
  },
  {
   "cell_type": "code",
   "execution_count": 6,
   "metadata": {},
   "outputs": [],
   "source": [
    "save_info = dr.find_element(By.XPATH, \"//div[contains(@class, 'x1i10hfl')]\")\n",
    "if save_info:\n",
    "    save_info.click()\n",
    "else:\n",
    "    pass"
   ]
  },
  {
   "cell_type": "code",
   "execution_count": 7,
   "metadata": {},
   "outputs": [],
   "source": [
    "turn_on = dr.find_element(By.XPATH, \"//button[contains(@class, '_a9_1')]\")\n",
    "if turn_on:\n",
    "    turn_on.click()\n",
    "else:\n",
    "    pass"
   ]
  },
  {
   "cell_type": "code",
   "execution_count": 9,
   "metadata": {},
   "outputs": [],
   "source": [
    "view_profile = dr.find_element(By.XPATH, \"//span[@class='xnz67gz x14yjl9h xudhj91 x18nykt9 xww2gxu x9f619 x1lliihq x2lah0s x6ikm8r x10wlt62 x1n2onr6 x1ykvv32 xougopr x159fomc xnp5s1o x194ut8o x1vzenxt xd7ygy7 xt298gk x1xrz1ek x1s928wv x162n7g1 x2q1x1w x1j6awrg x1n449xj x1m1drc7']\")\n",
    "view_profile.click()"
   ]
  },
  {
   "cell_type": "code",
   "execution_count": 8,
   "metadata": {},
   "outputs": [],
   "source": [
    "view_reels = dr.find_element(By.XPATH, \"//*[@href='/COMPANY NAME/reels/']\")\n",
    "view_reels.click()"
   ]
  },
  {
   "cell_type": "code",
   "execution_count": 33,
   "metadata": {},
   "outputs": [],
   "source": [
    "view_first_reels = dr.find_element(By.XPATH, \"//div[@class = '_aajy']\")\n",
    "view_first_reels.click()"
   ]
  },
  {
   "cell_type": "code",
   "execution_count": 34,
   "metadata": {},
   "outputs": [],
   "source": [
    "reels_url = []"
   ]
  },
  {
   "cell_type": "code",
   "execution_count": null,
   "metadata": {},
   "outputs": [],
   "source": [
    "while True:\n",
    "    current_url = \"/p/\" + dr.current_url.split(\"/\")[4] + \"/\"\n",
    "    reels_url.append(current_url)\n",
    "        \n",
    "    next_button = dr.find_element(By.XPATH, \"//*[@class = ' _aaqg _aaqh']\")\n",
    "    next_button.click()\n",
    "    time.sleep(4)\n"
   ]
  },
  {
   "cell_type": "code",
   "execution_count": 36,
   "metadata": {},
   "outputs": [
    {
     "data": {
      "text/plain": [
       "309"
      ]
     },
     "execution_count": 36,
     "metadata": {},
     "output_type": "execute_result"
    }
   ],
   "source": [
    "len(reels_url)"
   ]
  },
  {
   "cell_type": "code",
   "execution_count": null,
   "metadata": {},
   "outputs": [],
   "source": [
    "test = pd.DataFrame(reels_url)\n",
    "test.drop_duplicates"
   ]
  },
  {
   "cell_type": "code",
   "execution_count": null,
   "metadata": {},
   "outputs": [],
   "source": []
  },
  {
   "cell_type": "code",
   "execution_count": 38,
   "metadata": {},
   "outputs": [],
   "source": [
    "ad_df_date = pd.read_csv(\"PATH\")\n",
    "df_date = pd.read_csv(\"PATH\")\n",
    "no_df_date = pd.read_csv(\"PATH\")"
   ]
  },
  {
   "cell_type": "code",
   "execution_count": 39,
   "metadata": {},
   "outputs": [],
   "source": [
    "ad_df_date = ad_df_date.drop('is_reels', axis = 'columns')\n",
    "df_date = df_date.drop('is_reels', axis = 'columns')\n",
    "no_df_date = no_df_date.drop('is_reels', axis = 'columns')"
   ]
  },
  {
   "cell_type": "code",
   "execution_count": 96,
   "metadata": {},
   "outputs": [],
   "source": [
    "loader_df = pd.read_csv(\"PATH\")"
   ]
  },
  {
   "cell_type": "code",
   "execution_count": 40,
   "metadata": {},
   "outputs": [],
   "source": [
    "ad_df_date['is_reels'] = 'post'\n",
    "df_date['is_reels'] = 'post'\n",
    "no_df_date['is_reels'] = 'post'"
   ]
  },
  {
   "cell_type": "code",
   "execution_count": 41,
   "metadata": {},
   "outputs": [],
   "source": [
    "for i in range(len(df_date)):\n",
    "    for j in reels_url:\n",
    "        if j in df_date.iloc[i]['url']:\n",
    "            df_date.at[i, 'is_reels'] = 'reels'"
   ]
  },
  {
   "cell_type": "code",
   "execution_count": 42,
   "metadata": {},
   "outputs": [],
   "source": [
    "for i in range(len(ad_df_date)):\n",
    "    for j in reels_url:\n",
    "        if j in ad_df_date.iloc[i]['url']:\n",
    "            ad_df_date.at[i, 'is_reels'] = 'reels'"
   ]
  },
  {
   "cell_type": "code",
   "execution_count": 43,
   "metadata": {},
   "outputs": [],
   "source": [
    "for i in range(len(no_df_date)):\n",
    "    for j in reels_url:\n",
    "        if j in no_df_date.iloc[i]['url']:\n",
    "            no_df_date.at[i, 'is_reels'] = 'reels'"
   ]
  },
  {
   "cell_type": "code",
   "execution_count": 48,
   "metadata": {},
   "outputs": [],
   "source": [
    "dr.quit()"
   ]
  },
  {
   "cell_type": "code",
   "execution_count": 44,
   "metadata": {},
   "outputs": [],
   "source": [
    "df_date.to_csv(\"PATH\", index = False)\n",
    "ad_df_date.to_csv(\"PATH\", index = False)\n",
    "no_df_date.to_csv(\"PATH\", index = False)"
   ]
  },
  {
   "cell_type": "code",
   "execution_count": 47,
   "metadata": {},
   "outputs": [
    {
     "name": "stdout",
     "output_type": "stream",
     "text": [
      "165\n",
      "0\n",
      "142\n"
     ]
    }
   ],
   "source": [
    "print(len(df_date.loc[df_date['is_reels']=='reels']))\n",
    "print(len(ad_df_date.loc[ad_df_date['is_reels']=='reels']))\n",
    "print(len(no_df_date.loc[no_df_date['is_reels']=='reels']))"
   ]
  },
  {
   "cell_type": "code",
   "execution_count": 27,
   "metadata": {},
   "outputs": [
    {
     "data": {
      "text/plain": [
       "3"
      ]
     },
     "execution_count": 27,
     "metadata": {},
     "output_type": "execute_result"
    }
   ],
   "source": [
    "test = [1,2,3]\n",
    "len(test)"
   ]
  },
  {
   "cell_type": "code",
   "execution_count": null,
   "metadata": {},
   "outputs": [],
   "source": []
  }
 ],
 "metadata": {
  "kernelspec": {
   "display_name": "Python 3",
   "language": "python",
   "name": "python3"
  },
  "language_info": {
   "codemirror_mode": {
    "name": "ipython",
    "version": 3
   },
   "file_extension": ".py",
   "mimetype": "text/x-python",
   "name": "python",
   "nbconvert_exporter": "python",
   "pygments_lexer": "ipython3",
   "version": "3.11.3"
  },
  "orig_nbformat": 4
 },
 "nbformat": 4,
 "nbformat_minor": 2
}
